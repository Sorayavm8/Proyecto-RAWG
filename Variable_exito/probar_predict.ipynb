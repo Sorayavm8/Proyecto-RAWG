{
 "cells": [
  {
   "cell_type": "code",
   "execution_count": 6,
   "id": "a0b0f4b1",
   "metadata": {},
   "outputs": [
    {
     "name": "stdout",
     "output_type": "stream",
     "text": [
      "{'predicted_success': 0, 'success_probability': 0.0023553059436380863}\n"
     ]
    }
   ],
   "source": [
    "import requests\n",
    "\n",
    "params = {\n",
    "    \"rating\": 4.5,\n",
    "    \"added\": 100,\n",
    "    \"metacritic\": 85,\n",
    "    \"genre_ids\": [1, 2],\n",
    "    \"store_ids\": [1],\n",
    "    \"platform_ids\": [1, 2],\n",
    "    \"esrb_rating_id\": 3\n",
    "}\n",
    "\n",
    "endpoint = \"http://127.0.0.1:8000/predict\"\n",
    "\n",
    "response = requests.post(endpoint, json=params)\n",
    "print(response.json())\n"
   ]
  }
 ],
 "metadata": {
  "kernelspec": {
   "display_name": "Python 3",
   "language": "python",
   "name": "python3"
  },
  "language_info": {
   "codemirror_mode": {
    "name": "ipython",
    "version": 3
   },
   "file_extension": ".py",
   "mimetype": "text/x-python",
   "name": "python",
   "nbconvert_exporter": "python",
   "pygments_lexer": "ipython3",
   "version": "3.11.0"
  }
 },
 "nbformat": 4,
 "nbformat_minor": 5
}
