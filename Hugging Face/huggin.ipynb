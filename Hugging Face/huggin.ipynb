{
 "cells": [
  {
   "cell_type": "code",
   "execution_count": null,
   "id": "bf71bdca",
   "metadata": {},
   "outputs": [],
   "source": [
    "import pandas as pd\n",
    "\n",
    "import pymysql # Para ver la versión\n",
    "import sqlalchemy # Para ver la versión\n",
    "from sqlalchemy import create_engine\n",
    "from sqlalchemy import text\n",
    "from sqlalchemy import create_engine\n",
    "from dotenv import load_dotenv\n",
    "import os"
   ]
  },
  {
   "cell_type": "code",
   "execution_count": null,
   "id": "8565e9db",
   "metadata": {},
   "outputs": [],
   "source": [
    "load_dotenv()  # carga las variables del .env\n",
    "\n",
    "host = os.getenv(\"DB_HOST\")\n",
    "user = os.getenv(\"DB_USER\")\n",
    "password = os.getenv(\"DB_PASSWORD\")\n",
    "database = os.getenv(\"DB_NAME\")\n",
    "\n",
    "engine = create_engine(f\"postgresql+psycopg2://{user}:{password}@{host}/{database}\")\n",
    "\n",
    "\n",
    "connection = engine.connect()\n",
    "\n",
    "\n",
    "connection.close()"
   ]
  },
  {
   "cell_type": "code",
   "execution_count": 14,
   "id": "f14ac3a8",
   "metadata": {},
   "outputs": [
    {
     "data": {
      "text/plain": [
       "(1578, 23)"
      ]
     },
     "execution_count": 14,
     "metadata": {},
     "output_type": "execute_result"
    }
   ],
   "source": [
    "sql = \"\"\"SELECT\n",
    "  g.*,\n",
    "  COALESCE(s.store_ids,    ARRAY[]::int[])   AS store_ids,\n",
    "  COALESCE(ge.genre_ids,   ARRAY[]::int[])   AS genre_ids,\n",
    "  COALESCE(p.platform_ids, ARRAY[]::int[])   AS platform_ids\n",
    "FROM public.games g\n",
    "LEFT JOIN (\n",
    "  SELECT gs.game_id,\n",
    "         ARRAY_AGG(DISTINCT gs.store_id ORDER BY gs.store_id) AS store_ids\n",
    "  FROM public.game_stores gs\n",
    "  GROUP BY gs.game_id\n",
    ") s  ON s.game_id = g.game_id\n",
    "LEFT JOIN (\n",
    "  SELECT gg.game_id,\n",
    "         ARRAY_AGG(DISTINCT gg.genre_id ORDER BY gg.genre_id) AS genre_ids\n",
    "  FROM public.game_genres gg\n",
    "  GROUP BY gg.game_id\n",
    ") ge ON ge.game_id = g.game_id\n",
    "LEFT JOIN (\n",
    "  SELECT gp.game_id,\n",
    "         ARRAY_AGG(DISTINCT gp.platform_id ORDER BY gp.platform_id) AS platform_ids\n",
    "  FROM public.game_platforms gp\n",
    "  GROUP BY gp.game_id\n",
    ") p  ON p.game_id = g.game_id\n",
    "ORDER BY g.game_id;\n",
    "\"\"\"\n",
    "df_games = pd.read_sql_query(sql, engine)\n",
    "\n",
    "# ¿Existen juegos que aun no están “con puntuación” (metacritic o ratings > 0)?\n",
    "\n",
    "df_games_signal = df_games[(df_games['metacritic'].fillna(0) > 0) | (df_games['rating'].fillna(0) > 0)]\n",
    "df = df_games_signal\n",
    "df.shape\n"
   ]
  },
  {
   "cell_type": "code",
   "execution_count": 15,
   "id": "fb9cf9ac",
   "metadata": {},
   "outputs": [],
   "source": [
    "df=df[['game_id', 'name', 'rating', 'added', 'metacritic', 'genre_ids','store_ids','platform_ids','esrb_rating_id']]"
   ]
  },
  {
   "cell_type": "code",
   "execution_count": 16,
   "id": "e9ce2cb0",
   "metadata": {},
   "outputs": [],
   "source": [
    "df = df.copy()\n",
    "df['esrb_rating_id'] = df['esrb_rating_id'].fillna(6)\n",
    "df['metacritic'] = df['metacritic'].fillna(df['metacritic'].mean())\n",
    "df['metacritic'] = df['metacritic'].round(2)"
   ]
  },
  {
   "cell_type": "code",
   "execution_count": 17,
   "id": "bad6b8e8",
   "metadata": {},
   "outputs": [
    {
     "data": {
      "text/html": [
       "<div>\n",
       "<style scoped>\n",
       "    .dataframe tbody tr th:only-of-type {\n",
       "        vertical-align: middle;\n",
       "    }\n",
       "\n",
       "    .dataframe tbody tr th {\n",
       "        vertical-align: top;\n",
       "    }\n",
       "\n",
       "    .dataframe thead th {\n",
       "        text-align: right;\n",
       "    }\n",
       "</style>\n",
       "<table border=\"1\" class=\"dataframe\">\n",
       "  <thead>\n",
       "    <tr style=\"text-align: right;\">\n",
       "      <th></th>\n",
       "      <th>game_id</th>\n",
       "      <th>name</th>\n",
       "      <th>rating</th>\n",
       "      <th>added</th>\n",
       "      <th>metacritic</th>\n",
       "      <th>genre_ids</th>\n",
       "      <th>store_ids</th>\n",
       "      <th>platform_ids</th>\n",
       "      <th>esrb_rating_id</th>\n",
       "    </tr>\n",
       "  </thead>\n",
       "  <tbody>\n",
       "    <tr>\n",
       "      <th>0</th>\n",
       "      <td>1</td>\n",
       "      <td>D/Generation HD</td>\n",
       "      <td>1.86</td>\n",
       "      <td>128</td>\n",
       "      <td>78.6</td>\n",
       "      <td>[3, 7]</td>\n",
       "      <td>[1, 2, 3, 6]</td>\n",
       "      <td>[1, 4, 5, 7, 18]</td>\n",
       "      <td>2.0</td>\n",
       "    </tr>\n",
       "    <tr>\n",
       "      <th>1</th>\n",
       "      <td>25</td>\n",
       "      <td>Middle-earth: Shadow of War</td>\n",
       "      <td>3.86</td>\n",
       "      <td>8701</td>\n",
       "      <td>82.0</td>\n",
       "      <td>[4, 5]</td>\n",
       "      <td>[1, 2, 3, 4, 5, 8]</td>\n",
       "      <td>[1, 4, 18, 21]</td>\n",
       "      <td>4.0</td>\n",
       "    </tr>\n",
       "    <tr>\n",
       "      <th>2</th>\n",
       "      <td>28</td>\n",
       "      <td>Red Dead Redemption 2</td>\n",
       "      <td>4.59</td>\n",
       "      <td>16547</td>\n",
       "      <td>96.0</td>\n",
       "      <td>[4]</td>\n",
       "      <td>[1, 2, 3, 11]</td>\n",
       "      <td>[1, 4, 18]</td>\n",
       "      <td>4.0</td>\n",
       "    </tr>\n",
       "  </tbody>\n",
       "</table>\n",
       "</div>"
      ],
      "text/plain": [
       "   game_id                         name  rating  added  metacritic genre_ids  \\\n",
       "0        1              D/Generation HD    1.86    128        78.6    [3, 7]   \n",
       "1       25  Middle-earth: Shadow of War    3.86   8701        82.0    [4, 5]   \n",
       "2       28        Red Dead Redemption 2    4.59  16547        96.0       [4]   \n",
       "\n",
       "            store_ids      platform_ids  esrb_rating_id  \n",
       "0        [1, 2, 3, 6]  [1, 4, 5, 7, 18]             2.0  \n",
       "1  [1, 2, 3, 4, 5, 8]    [1, 4, 18, 21]             4.0  \n",
       "2       [1, 2, 3, 11]        [1, 4, 18]             4.0  "
      ]
     },
     "execution_count": 17,
     "metadata": {},
     "output_type": "execute_result"
    }
   ],
   "source": [
    "df.head(3)"
   ]
  },
  {
   "cell_type": "code",
   "execution_count": 18,
   "id": "56310521",
   "metadata": {},
   "outputs": [
    {
     "data": {
      "text/plain": [
       "['game_id',\n",
       " 'name',\n",
       " 'rating',\n",
       " 'added',\n",
       " 'metacritic',\n",
       " 'genre_ids',\n",
       " 'store_ids',\n",
       " 'platform_ids',\n",
       " 'esrb_rating_id']"
      ]
     },
     "execution_count": 18,
     "metadata": {},
     "output_type": "execute_result"
    }
   ],
   "source": [
    "df.columns.tolist()\n"
   ]
  },
  {
   "cell_type": "code",
   "execution_count": 19,
   "id": "b19e39d6",
   "metadata": {},
   "outputs": [],
   "source": [
    "from transformers import TapasTokenizer, TapasForQuestionAnswering\n",
    "import torch\n",
    "\n",
    "model_name = \"google/tapas-large-finetuned-wtq\"\n",
    "tokenizer = TapasTokenizer.from_pretrained(model_name)\n",
    "model = TapasForQuestionAnswering.from_pretrained(model_name)"
   ]
  },
  {
   "cell_type": "code",
   "execution_count": 44,
   "id": "cf7771db",
   "metadata": {},
   "outputs": [],
   "source": [
    "#me ha tocado hacer esto porque si no se sanean las columnas explota\n",
    "\n",
    "cols = [\"name\", \"metacritic\", \"rating\"] # dejo columnas mas simples sin arrays y rinde peor\n",
    "df_copy = df[cols].head(200).reset_index(drop=True).copy() # limitar columnas al modelo a 100 porque si no da peor rendimiento o puede petar\n",
    "table = df_copy.astype(str).fillna(\"\")   # esto es lo que vamos a pasar al pipeline libre de nans y todo a string\n",
    "assert table.shape[0] > 0 and table.shape[1] > 0, f\"Tabla vacia: shape={table.shape}\" # check de seguridad por si la tabla se queda vacia\n",
    "#table = table.head(100).reset_index(drop=True)   # recorta mas si hace falta la tabla si da error\n",
    "table.columns = [str(c) for c in table.columns] # parseo a strings extra por si nombres de columnas no lo son."
   ]
  },
  {
   "cell_type": "code",
   "execution_count": null,
   "id": "dd8a362d",
   "metadata": {},
   "outputs": [
    {
     "name": "stderr",
     "output_type": "stream",
     "text": [
      "C:\\Users\\feror\\AppData\\Roaming\\Python\\Python313\\site-packages\\transformers\\models\\tapas\\tokenization_tapas.py:2700: FutureWarning: Series.__getitem__ treating keys as positions is deprecated. In a future version, integer keys will always be treated as labels (consistent with DataFrame behavior). To access a value by position, use `ser.iloc[pos]`\n",
      "  text = normalize_for_match(row[col_index].text)\n",
      "C:\\Users\\feror\\AppData\\Roaming\\Python\\Python313\\site-packages\\transformers\\models\\tapas\\tokenization_tapas.py:1494: FutureWarning: Series.__getitem__ treating keys as positions is deprecated. In a future version, integer keys will always be treated as labels (consistent with DataFrame behavior). To access a value by position, use `ser.iloc[pos]`\n",
      "  cell = row[col_index]\n"
     ]
    },
    {
     "name": "stdout",
     "output_type": "stream",
     "text": [
      "Respuesta, el juego con mejor calificacion metacritic es:  Red Dead Redemption 2\n"
     ]
    }
   ],
   "source": [
    "queries = [\"Which game has the highest metacritic?\"]\n",
    "inputs = tokenizer(table=table, queries=queries, return_tensors=\"pt\")\n",
    "\n",
    "with torch.no_grad():\n",
    "    outputs = model(**inputs)\n",
    "\n",
    "\n",
    "# Aquí pred_coords ya viene como pares (r,c), por eso [table.iat[r, c] for (r, c) in coords] no explota.\n",
    "pred_coords, = tokenizer.convert_logits_to_predictions(\n",
    "    inputs, outputs.logits\n",
    ")\n",
    "\n",
    "coords = pred_coords[0]  # lista de pares (row y col)\n",
    "if coords:\n",
    "    answers = [table.iat[r, c] for (r, c) in coords]\n",
    "    print(\"Respuesta, el juego con mejor calificacion metacritic es: \", \", \".join(answers))\n",
    "else:\n",
    "    print(\"No se ha encontrado respuesta\")\n",
    "\n"
   ]
  },
  {
   "cell_type": "code",
   "execution_count": null,
   "id": "e401b56f",
   "metadata": {},
   "outputs": [
    {
     "name": "stdout",
     "output_type": "stream",
     "text": [
      "aggregator: AVERAGE\n",
      "Respuesta average rating es:  3.78\n"
     ]
    }
   ],
   "source": [
    "queries = [\"What is the average rating?\"]\n",
    "inputs = tokenizer(table=table, queries=queries, return_tensors=\"pt\")\n",
    "\n",
    "with torch.no_grad():\n",
    "    outputs = model(**inputs)\n",
    "\n",
    "# Aquí pred_coords ya viene como pares (r,c), por eso [table.iat[r, c] for (r, c) in coords] no explota.\n",
    "# Uso aggregator para saber que operacion va a usar porque la pregunta lo requiere.\n",
    "pred_coords, pred_aggs = tokenizer.convert_logits_to_predictions(\n",
    "    inputs, outputs.logits, outputs.logits_aggregation\n",
    ")\n",
    "aggregation_map = {0: \"NONE\", 1: \"SUM\", 2: \"AVERAGE\", 3: \"COUNT\"}\n",
    "print(\"aggregator:\", aggregation_map.get(pred_aggs[0], \"UNKNOWN\"))\n",
    "\n",
    "\n",
    "rows = [r for (r, c) in pred_coords[0]]  # filas elegidas por TAPAS\n",
    "\n",
    "if rows:\n",
    "    avg_rating = pd.to_numeric(df_copy.loc[rows, \"rating\"], errors=\"coerce\").mean()\n",
    "    print(\"Respuesta, average rating es: \", round(avg_rating, 2))\n",
    "    \n",
    "else: print(\"No se ha encontrado respuesta\")\n"
   ]
  },
  {
   "cell_type": "code",
   "execution_count": 57,
   "id": "494dc077",
   "metadata": {},
   "outputs": [
    {
     "name": "stderr",
     "output_type": "stream",
     "text": [
      "C:\\Users\\feror\\AppData\\Roaming\\Python\\Python313\\site-packages\\transformers\\models\\tapas\\tokenization_tapas.py:2700: FutureWarning: Series.__getitem__ treating keys as positions is deprecated. In a future version, integer keys will always be treated as labels (consistent with DataFrame behavior). To access a value by position, use `ser.iloc[pos]`\n",
      "  text = normalize_for_match(row[col_index].text)\n",
      "C:\\Users\\feror\\AppData\\Roaming\\Python\\Python313\\site-packages\\transformers\\models\\tapas\\tokenization_tapas.py:1494: FutureWarning: Series.__getitem__ treating keys as positions is deprecated. In a future version, integer keys will always be treated as labels (consistent with DataFrame behavior). To access a value by position, use `ser.iloc[pos]`\n",
      "  cell = row[col_index]\n"
     ]
    },
    {
     "name": "stdout",
     "output_type": "stream",
     "text": [
      "aggregator: COUNT\n",
      "Respuesta, juegos con metacritic mayor que 90 son:  3\n"
     ]
    }
   ],
   "source": [
    "queries = [\"How many games have a metacritic greater than 90?\"]\n",
    "inputs = tokenizer(table=table, queries=queries, return_tensors=\"pt\")\n",
    "\n",
    "with torch.no_grad():\n",
    "    outputs = model(**inputs)\n",
    "\n",
    "# Aquí pred_coords ya viene como pares (r,c), por eso [table.iat[r, c] for (r, c) in coords] no explota.\n",
    "# Uso aggregator para saber que operacion va a usar porque la pregunta lo requiere.\n",
    "pred_coords, pred_aggs = tokenizer.convert_logits_to_predictions(\n",
    "    inputs, outputs.logits, outputs.logits_aggregation\n",
    ")\n",
    "aggregation_map = {0: \"NONE\", 1: \"SUM\", 2: \"AVERAGE\", 3: \"COUNT\"}\n",
    "print(\"aggregator:\", aggregation_map.get(pred_aggs[0], \"UNKNOWN\"))\n",
    "\n",
    "rows = {r for (r, c) in pred_coords[0]} # filas elegidas por TAPAS\n",
    "print(\"Respuesta, juegos con metacritic mayor que 90 son: \", len(rows))\n"
   ]
  }
 ],
 "metadata": {
  "kernelspec": {
   "display_name": "base",
   "language": "python",
   "name": "python3"
  },
  "language_info": {
   "codemirror_mode": {
    "name": "ipython",
    "version": 3
   },
   "file_extension": ".py",
   "mimetype": "text/x-python",
   "name": "python",
   "nbconvert_exporter": "python",
   "pygments_lexer": "ipython3",
   "version": "3.13.5"
  }
 },
 "nbformat": 4,
 "nbformat_minor": 5
}
