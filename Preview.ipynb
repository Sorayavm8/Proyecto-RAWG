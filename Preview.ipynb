{
 "cells": [
  {
   "cell_type": "code",
   "execution_count": null,
   "id": "b01e10e9",
   "metadata": {},
   "outputs": [],
   "source": []
  },
  {
   "cell_type": "markdown",
   "id": "a1b184f5",
   "metadata": {},
   "source": [
    "# Proyecto Grupal: Instrucciones Generales\n",
    "\n",
    "A continuación se detallan los roles y las fases de desarrollo para el proyecto.\n",
    "\n",
    "## �� Roles\n",
    "\n",
    "### ��️ Data Architect\n",
    "- **Diseño y Gestión de Servicios AWS:** Responsable de definir y configurar la arquitectura en la nube (S3, RDS, permisos, etc.).\n",
    "- **Diseño y Gestión de la Base de Datos:** Encargado de modelar y administrar la base de datos **PostgreSQL**.\n",
    "\n",
    "### ⚙️ Data Engineer\n",
    "- **Diseño e Implementación del Pipeline de Datos:** Responsable de crear y mantener los flujos automáticos para la extracción, carga y transformación de datos (ELT/ETL) usando AWS Lambda.\n",
    "\n",
    "### �� Data Scientist\n",
    "- **Análisis de Datos y Modelado:** Encargado de explorar los datos, definir las métricas clave y desarrollar los modelos de machine learning (predictivos, de forecasting, etc.).\n",
    "- **Diseño de Soluciones de Consulta:** Responsable de la lógica para interpretar preguntas complejas y de la integración con modelos de lenguaje (ej. de Hugging Face) si es necesario.\n",
    "\n",
    "### �� ML Engineer\n",
    "- **Integración y Despliegue de la API:** Responsable de envolver los modelos y la lógica de negocio en una API robusta (con FastAPI) y de desplegarla en producción en una instancia EC2.\n",
    "\n",
    "---\n",
    "\n",
    "## �� Abstract del Proyecto\n",
    "\n",
    "### Fases de Desarrollo\n",
    "\n",
    "#### **Fase 01: Infraestructura y Pipeline de Datos**\n",
    "En esta etapa inicial, se establecerá toda la infraestructura en AWS necesaria para el proyecto. Esto incluye la implementación de un pipeline de datos automatizado para la ingesta y el almacenamiento.\n",
    "\n",
    "**Proceso del Pipeline:**\n",
    "1.  **Extracción Programada:** Se utilizará `EventBridge` y `AWS Lambda` para extraer periódicamente los datos más recientes desde la API externa correspondiente.\n",
    "2.  **Almacenamiento en Bruto (Data Lake):** Los datos extraídos se guardarán en su formato original (ej. JSON) en un bucket de `S3`.\n",
    "3.  **Procesamiento y Carga:** Una segunda `AWS Lambda` se activará automáticamente al recibir nuevos datos, los procesará y los cargará de forma estructurada en una base de datos **PostgreSQL** alojada en **AWS RDS**.\n",
    "\n",
    "#### **Fase 02: Modelado, API y Despliegue**\n",
    "Durante la segunda fase, se desarrollará una API que servirá como punto de acceso a las distintas funcionalidades del producto de datos. La API se alojará en una instancia `EC2`.\n",
    "\n",
    "**Funcionalidades Potenciales de la API:**\n",
    "- **Endpoints de Machine Learning:** Exponen los resultados de los modelos entrenados, ya sea para **clasificación** (ej. predecir el éxito), **forecasting** (ej. predecir temperaturas futuras) o cualquier otra tarea de ML.\n",
    "- **Endpoints de Consulta (Q&A):** Permiten realizar preguntas complejas. Estas pueden ser respondidas mediante:\n",
    "    - **Lógica de interpretación** de texto para construir consultas a la base de datos.\n",
    "    - **Integración con modelos de lenguaje** para una mayor flexibilidad.\n",
    "- **Endpoints con Respuesta Visual:** Generan y devuelven visualizaciones de datos (gráficos de barras, de líneas, etc.) como respuesta a una consulta, utilizando librerías como `Matplotlib` o `Seaborn`.\n",
    "\n",
    "La API se comunicará con la base de datos en `AWS RDS` para acceder a los datos y podrá conectarse a servicios externos (ej. API de Hugging Face) para funcionalidades avanzadas."
   ]
  }
 ],
 "metadata": {
  "kernelspec": {
   "display_name": "Python 3",
   "language": "python",
   "name": "python3"
  },
  "language_info": {
   "name": "python",
   "version": "3.11.0"
  }
 },
 "nbformat": 4,
 "nbformat_minor": 5
}
